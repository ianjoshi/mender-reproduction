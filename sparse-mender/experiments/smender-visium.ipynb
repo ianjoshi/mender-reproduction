{
 "cells": [
  {
   "cell_type": "markdown",
   "id": "2fb417d8",
   "metadata": {},
   "source": [
    "# Sparse-MENDER Visium Experiments"
   ]
  },
  {
   "cell_type": "markdown",
   "id": "786ba50d",
   "metadata": {},
   "source": [
    "### Import Dependencies"
   ]
  },
  {
   "cell_type": "code",
   "execution_count": 1,
   "id": "edeeb006",
   "metadata": {},
   "outputs": [],
   "source": [
    "import warnings\n",
    "warnings.filterwarnings(\"ignore\")\n",
    "\n",
    "import os\n",
    "import json\n",
    "import numpy as np\n",
    "import scanpy as sc\n",
    "import matplotlib.pyplot as plt\n",
    "import pysodb\n",
    "import sys\n",
    "sys.path.append(\"..\")\n",
    "from smender.SMENDER import SMENDER_single\n",
    "from smender.utils import compute_PAS, compute_CHAOS\n",
    "from ann.AnnoyANN import AnnoyANN\n",
    "from ann.HNSWANN import HNSWANN"
   ]
  },
  {
   "cell_type": "markdown",
   "id": "19054d43",
   "metadata": {},
   "source": [
    "### Define Configuration, Constants and Directories"
   ]
  },
  {
   "cell_type": "code",
   "execution_count": null,
   "id": "f0ffd196",
   "metadata": {},
   "outputs": [],
   "source": [
    "# Configuration\n",
    "ANN_TYPE = 'none'  # Options: 'annoy', 'hnsw', 'none'\n",
    "DIM_REDUCTION = 'nmf'  # Options: 'pca', 'nmf', 'ica', 'fa'\n",
    "\n",
    "# Configuration for plots and results\n",
    "ANN_TYPE_STR = 'Original' # Options: 'Annoy', 'HNSW', 'Original'\n",
    "DIM_REDUCTION_STR = 'PCA' # Options: 'PCA', 'NMF', 'ICA', 'FA'\n",
    "DATASET_STR = \"Visium MOB\"\n",
    "\n",
    "# Validate ANN_TYPE\n",
    "ANN_MAP = {\n",
    "    'annoy': AnnoyANN,\n",
    "    'hnsw': HNSWANN,\n",
    "    'none': None\n",
    "}\n",
    "if ANN_TYPE not in ANN_MAP:\n",
    "    raise ValueError(f\"Invalid ANN_TYPE: {ANN_TYPE}. Choose from {list(ANN_MAP.keys())}\")\n",
    "SELECTED_ANN = ANN_MAP[ANN_TYPE]\n",
    "\n",
    "# Validate DIM_REDUCTION\n",
    "VALID_DIM_REDUCTIONS = ['pca', 'nmf', 'ica', 'fa']\n",
    "if DIM_REDUCTION not in VALID_DIM_REDUCTIONS:\n",
    "    raise ValueError(f\"Invalid DIM_REDUCTION: {DIM_REDUCTION}. Choose from {VALID_DIM_REDUCTIONS}\")\n",
    "\n",
    "# Define dataset\n",
    "dataset_name = \"Lebrigand2022The\"\n",
    "experiment_name = \"GSM4656181_10x_Visium\"\n",
    "\n",
    "# Multiprocessing for final SMENDER run\n",
    "MP_PROCESSES = 4  # Adjust based on CPU cores\n",
    "\n",
    "# Set random seeds for reproducibility\n",
    "seed = 100\n",
    "np.random.seed(seed)\n",
    "sc.settings.verbosity = 1\n",
    "\n",
    "# Define directories\n",
    "result_dir = os.path.join(os.path.pardir, \"results\", \"visium\", ANN_TYPE, DIM_REDUCTION)\n",
    "plots_result_dir = os.path.join(os.path.pardir, \"plots\", \"visium\", ANN_TYPE, DIM_REDUCTION)\n",
    "os.makedirs(result_dir, exist_ok=True)\n",
    "os.makedirs(plots_result_dir, exist_ok=True)\n",
    "\n",
    "# Define batch key\n",
    "batch_obs = None"
   ]
  },
  {
   "cell_type": "markdown",
   "id": "82ad6cfa",
   "metadata": {},
   "source": [
    "### Load the Visium MOB Dataset"
   ]
  },
  {
   "cell_type": "code",
   "execution_count": 3,
   "id": "12327a22",
   "metadata": {},
   "outputs": [
    {
     "name": "stdout",
     "output_type": "stream",
     "text": [
      "load experiment[GSM4656181_10x_Visium] in dataset[Lebrigand2022The]\n"
     ]
    }
   ],
   "source": [
    "sodb = pysodb.SODB()\n",
    "adata_raw = sodb.load_experiment(dataset_name, experiment_name)"
   ]
  },
  {
   "cell_type": "code",
   "execution_count": 4,
   "id": "0d11e5b9",
   "metadata": {},
   "outputs": [
    {
     "name": "stdout",
     "output_type": "stream",
     "text": [
      "Generating raw spatial plot...\n"
     ]
    }
   ],
   "source": [
    "# Generate spatial plot for raw data (as in visium.pdf)\n",
    "print(\"Generating raw spatial plot...\")\n",
    "raw_spatial_path = os.path.join(plots_result_dir, f\"raw_spatial.png\")\n",
    "ax = sc.pl.spatial(adata_raw, color=None, show=False)\n",
    "plt.savefig(raw_spatial_path, dpi=200, bbox_inches='tight')\n",
    "plt.close()"
   ]
  },
  {
   "cell_type": "markdown",
   "id": "8dcc1606",
   "metadata": {},
   "source": [
    "### Prepare Dictionaries to Store Final Results "
   ]
  },
  {
   "cell_type": "code",
   "execution_count": 5,
   "id": "c63b34e0",
   "metadata": {},
   "outputs": [],
   "source": [
    "results_dict = {}\n",
    "scores_dict = {}\n",
    "adata_list = []"
   ]
  },
  {
   "cell_type": "markdown",
   "id": "0d73c2e8",
   "metadata": {},
   "source": [
    "### Run SMENDER"
   ]
  },
  {
   "cell_type": "code",
   "execution_count": 6,
   "id": "f3441ec6",
   "metadata": {},
   "outputs": [
    {
     "name": "stdout",
     "output_type": "stream",
     "text": [
      "Preparing input data...\n",
      "WARNING: adata.X seems to be already log-transformed.\n",
      "Running SMENDER...\n",
      "Setting SMENDER parameters...\n",
      "Extracting multi-scale context representation...\n",
      "Running clustering...\n"
     ]
    }
   ],
   "source": [
    "# Prepare input data\n",
    "print(\"Preparing input data...\")\n",
    "adata = adata_raw.copy()\n",
    "# Compute cell types since no reliable annotations are available\n",
    "sc.pp.highly_variable_genes(adata, flavor=\"seurat_v3\", n_top_genes=4000)\n",
    "sc.pp.normalize_total(adata, inplace=True)\n",
    "sc.pp.log1p(adata)\n",
    "sc.pp.pca(adata)\n",
    "sc.pp.neighbors(adata)\n",
    "sc.tl.leiden(adata, resolution=2, key_added='ct')\n",
    "adata.obs['ct'] = adata.obs['ct'].astype('category')\n",
    "\n",
    "# Run SMENDER\n",
    "print(\"Running SMENDER...\")\n",
    "smender = SMENDER_single(\n",
    "    adata,\n",
    "    ct_obs='ct',\n",
    "    random_seed=seed,\n",
    "    verbose=0,\n",
    "    ann=SELECTED_ANN,\n",
    "    dim_reduction=DIM_REDUCTION\n",
    ")\n",
    "\n",
    "print(\"Setting SMENDER parameters...\")\n",
    "smender.set_smender_para(\n",
    "    nn_mode='ring',\n",
    "    nn_para=6,\n",
    "    n_scales=2\n",
    ")\n",
    "\n",
    "print(\"Extracting multi-scale context representation...\")\n",
    "smender.run_representation()\n",
    "\n",
    "print(\"Running clustering...\")\n",
    "smender.run_clustering_normal(-0.2)\n",
    "\n",
    "# Transfer clusters\n",
    "pred_key = \"smender_clusters\"\n",
    "adata_raw.obs[pred_key] = smender.adata_MENDER.obs['MENDER'].astype('category')"
   ]
  },
  {
   "cell_type": "markdown",
   "id": "def3a471",
   "metadata": {},
   "source": [
    "### Compute Metrics"
   ]
  },
  {
   "cell_type": "code",
   "execution_count": 12,
   "id": "af293f0f",
   "metadata": {},
   "outputs": [
    {
     "name": "stdout",
     "output_type": "stream",
     "text": [
      "Computing metrics...\n",
      "\n",
      "Final Metrics:\n",
      "{'PAS': np.float64(0.04139433551198257), 'CHAOS': np.float64(0.10675158333506653)}\n"
     ]
    }
   ],
   "source": [
    "# Function to compute metrics (only PAS and CHAOS, no ground truth)\n",
    "def compute_metrics(adata, cluster_key):\n",
    "    if cluster_key not in adata.obs:\n",
    "        raise KeyError(f\"Cluster key {cluster_key} not found in adata.obs\")\n",
    "    if adata.obs[cluster_key].isna().any():\n",
    "        raise ValueError(f\"NaN values found in {cluster_key}. Handle NaN values before computing metrics.\")\n",
    "    return {\n",
    "        'PAS': compute_PAS(adata, cluster_key),\n",
    "        'CHAOS': compute_CHAOS(adata, cluster_key)\n",
    "    }\n",
    "\n",
    "# Compute metrics\n",
    "print(\"Computing metrics...\")\n",
    "final_scores = compute_metrics(adata_raw, pred_key)\n",
    "print(f\"\\nFinal Metrics:\\n{final_scores}\")"
   ]
  },
  {
   "cell_type": "markdown",
   "id": "440ab663",
   "metadata": {},
   "source": [
    "### Visualize"
   ]
  },
  {
   "cell_type": "code",
   "execution_count": 13,
   "id": "83dc6f13",
   "metadata": {},
   "outputs": [],
   "source": [
    "# Function to plot UMAP\n",
    "def plot_umap(adata, title, color_key, prefix, save_path=None):\n",
    "    _, ax = plt.subplots()\n",
    "    main_title = f\"{prefix} - {title}\"\n",
    "    subtitle = f'\\n{DATASET_STR} - {ANN_TYPE_STR} + {DIM_REDUCTION_STR}'\n",
    "    sc.pl.umap(adata, color=color_key, title=main_title + subtitle, ax=ax, show=False)\n",
    "    if save_path:\n",
    "        plt.savefig(save_path, dpi=200, bbox_inches='tight')\n",
    "        plt.close()"
   ]
  },
  {
   "cell_type": "code",
   "execution_count": 14,
   "id": "e86aacb3",
   "metadata": {},
   "outputs": [],
   "source": [
    "# Plot UMAP for ground truth\n",
    "final_umap_smender_path = os.path.join(plots_result_dir, f\"final_smender_clusters_umap_{DATASET_STR}_{ANN_TYPE_STR}_{DIM_REDUCTION_STR}.png\")\n",
    "plot_umap(adata_raw, \"All Samples\", pred_key, \"SMENDER\", save_path=final_umap_smender_path)"
   ]
  },
  {
   "cell_type": "code",
   "execution_count": 15,
   "id": "10351cf6",
   "metadata": {},
   "outputs": [
    {
     "name": "stdout",
     "output_type": "stream",
     "text": [
      "Generating clustered spatial plot...\n"
     ]
    }
   ],
   "source": [
    "# Generate spatial plot for clustered data\n",
    "print(\"Generating clustered spatial plot...\")\n",
    "clustered_spatial_path = os.path.join(plots_result_dir, f\"clustered_spatial_{DATASET_STR}_{ANN_TYPE_STR}_{DIM_REDUCTION_STR}.png\")\n",
    "sc.pl.spatial(smender.adata_MENDER, color='MENDER', size=1, show=False)\n",
    "plt.savefig(clustered_spatial_path, dpi=200, bbox_inches='tight')\n",
    "plt.close()"
   ]
  },
  {
   "cell_type": "markdown",
   "id": "2aaaf891",
   "metadata": {},
   "source": [
    "### Save Results"
   ]
  },
  {
   "cell_type": "code",
   "execution_count": 17,
   "id": "487bdb07",
   "metadata": {},
   "outputs": [
    {
     "name": "stdout",
     "output_type": "stream",
     "text": [
      "Results, scores, and performance metrics saved to ..\\results\\visium\\none\\pca\\smender_Visium MOB_none_pca_results.json\n"
     ]
    }
   ],
   "source": [
    "# Save results\n",
    "output_file = os.path.join(result_dir, f\"smender_{DATASET_STR}_{ANN_TYPE}_{DIM_REDUCTION}_results.json\")\n",
    "with open(output_file, 'w') as f:\n",
    "    json.dump({\n",
    "        'results': {\n",
    "            'n_cells': adata_raw.n_obs,\n",
    "            'n_genes': adata_raw.n_vars,\n",
    "            'cluster_counts': adata_raw.obs['smender_clusters'].value_counts().to_dict()\n",
    "        },\n",
    "        'scores': final_scores,\n",
    "    }, f, indent=4)\n",
    "print(f\"Results, scores, and performance metrics saved to {output_file}\")"
   ]
  }
 ],
 "metadata": {
  "kernelspec": {
   "display_name": "smender-venv",
   "language": "python",
   "name": "python3"
  },
  "language_info": {
   "codemirror_mode": {
    "name": "ipython",
    "version": 3
   },
   "file_extension": ".py",
   "mimetype": "text/x-python",
   "name": "python",
   "nbconvert_exporter": "python",
   "pygments_lexer": "ipython3",
   "version": "3.10.11"
  }
 },
 "nbformat": 4,
 "nbformat_minor": 5
}
