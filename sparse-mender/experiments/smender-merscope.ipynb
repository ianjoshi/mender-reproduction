{
 "cells": [
  {
   "cell_type": "markdown",
   "id": "5808bf68",
   "metadata": {},
   "source": [
    "# Sparse-MENDER MERSCOPE Experiments"
   ]
  },
  {
   "cell_type": "markdown",
   "id": "d4b9245c",
   "metadata": {},
   "source": [
    "### Import the dataset"
   ]
  },
  {
   "cell_type": "code",
   "execution_count": 1,
   "id": "19c4c261",
   "metadata": {},
   "outputs": [],
   "source": [
    "# Imports\n",
    "import warnings\n",
    "warnings.filterwarnings(\"ignore\")\n",
    "\n",
    "import sys\n",
    "sys.path.append('../..')\n",
    "\n",
    "from utils.data_loader import DataLoader"
   ]
  },
  {
   "cell_type": "markdown",
   "id": "7559ff07",
   "metadata": {},
   "source": [
    "### Load the MERSCOPE Dataset"
   ]
  },
  {
   "cell_type": "code",
   "execution_count": 2,
   "id": "0af65c6d",
   "metadata": {},
   "outputs": [
    {
     "name": "stdout",
     "output_type": "stream",
     "text": [
      "Loading dataset: Dataset13_MS_raw\n",
      "load experiment[Dataset13] in dataset[Dataset13_MS_raw]\n",
      "Dataset loaded successfully.\n"
     ]
    }
   ],
   "source": [
    "# Load MERSCOPE Dataset from SODB\n",
    "loader = DataLoader(\"Dataset13_MS_raw\")\n",
    "adata_dict = loader.load()\n",
    "adata = list(adata_dict.values())[0]\n",
    "\n",
    "# Copy the raw data for later use\n",
    "adata_raw = adata.copy()"
   ]
  }
 ],
 "metadata": {
  "kernelspec": {
   "display_name": "mender-venv",
   "language": "python",
   "name": "python3"
  },
  "language_info": {
   "codemirror_mode": {
    "name": "ipython",
    "version": 3
   },
   "file_extension": ".py",
   "mimetype": "text/x-python",
   "name": "python",
   "nbconvert_exporter": "python",
   "pygments_lexer": "ipython3",
   "version": "3.10.11"
  }
 },
 "nbformat": 4,
 "nbformat_minor": 5
}
