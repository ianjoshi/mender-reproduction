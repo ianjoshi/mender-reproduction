{
 "cells": [
  {
   "cell_type": "markdown",
   "id": "fb88d2fb",
   "metadata": {},
   "source": [
    "# Sparse-MENDER Results Analysis"
   ]
  },
  {
   "cell_type": "markdown",
   "id": "adc6baff",
   "metadata": {},
   "source": [
    "### Import Dependencies"
   ]
  },
  {
   "cell_type": "code",
   "execution_count": 5,
   "id": "943b21c7",
   "metadata": {},
   "outputs": [],
   "source": [
    "import os\n",
    "import json\n",
    "import pandas as pd\n",
    "import seaborn as sns\n",
    "import matplotlib.pyplot as plt\n",
    "from pathlib import Path\n",
    "import re\n",
    "import sys\n",
    "sys.path.append(\"..\")"
   ]
  },
  {
   "cell_type": "markdown",
   "id": "a6259c89",
   "metadata": {},
   "source": [
    "## MERFISH Analysis"
   ]
  },
  {
   "cell_type": "markdown",
   "id": "c0b63557",
   "metadata": {},
   "source": [
    "### Define Directories and Constants"
   ]
  },
  {
   "cell_type": "code",
   "execution_count": 6,
   "id": "8baed09c",
   "metadata": {},
   "outputs": [],
   "source": [
    "# Define base directory and subdirectories\n",
    "base_dir = os.path.join(os.path.pardir, \"results\")\n",
    "merfish_dir = os.path.join(base_dir, \"merfish\")\n",
    "visium_dir = os.path.join(base_dir, \"visium\")\n",
    "\n",
    "subdirs = [\n",
    "    \"annoy/pca\", \"annoy/fa\", \"annoy/ica\", \"annoy/nmf\",\n",
    "    \"hnsw/pca\", \"hnsw/fa\", \"hnsw/ica\", \"hnsw/nmf\",\n",
    "    \"none/pca\", \"none/fa\", \"none/ica\", \"none/nmf\"\n",
    "]\n",
    "merfish_output_dir = os.path.join(os.path.pardir, \"plots\", \"merfish\")\n",
    "visium_output_dir = os.path.join(os.path.pardir, \"plots\", \"visium\")\n",
    "Path(merfish_output_dir).mkdir(parents=True, exist_ok=True)"
   ]
  },
  {
   "cell_type": "markdown",
   "id": "0a18adcb",
   "metadata": {},
   "source": [
    "### Read Results from JSON files"
   ]
  },
  {
   "cell_type": "code",
   "execution_count": 7,
   "id": "1b3d9fe1",
   "metadata": {},
   "outputs": [
    {
     "name": "stdout",
     "output_type": "stream",
     "text": [
      "Parsing file: metrics_per_batch_gt_annoy_pca.json, parts: ['metrics', 'per', 'batch', 'gt', 'annoy', 'pca.json']\n",
      "Extracted: type=gt, ann_method=annoy, dim_reduction=pca\n",
      "Parsing file: metrics_per_batch_MENDER_annoy_pca.json, parts: ['metrics', 'per', 'batch', 'MENDER', 'annoy', 'pca.json']\n",
      "Extracted: type=MENDER, ann_method=annoy, dim_reduction=pca\n",
      "Skipping file: smender_MERFISH_Annoy_PCA_results.json\n",
      "Parsing file: metrics_per_batch_gt_annoy_fa.json, parts: ['metrics', 'per', 'batch', 'gt', 'annoy', 'fa.json']\n",
      "Extracted: type=gt, ann_method=annoy, dim_reduction=fa\n",
      "Parsing file: metrics_per_batch_MENDER_annoy_fa.json, parts: ['metrics', 'per', 'batch', 'MENDER', 'annoy', 'fa.json']\n",
      "Extracted: type=MENDER, ann_method=annoy, dim_reduction=fa\n",
      "Skipping file: smender_MERFISH_annoy_fa_results.json\n",
      "Parsing file: metrics_per_batch_gt_annoy_ica.json, parts: ['metrics', 'per', 'batch', 'gt', 'annoy', 'ica.json']\n",
      "Extracted: type=gt, ann_method=annoy, dim_reduction=ica\n",
      "Parsing file: metrics_per_batch_MENDER_annoy_ica.json, parts: ['metrics', 'per', 'batch', 'MENDER', 'annoy', 'ica.json']\n",
      "Extracted: type=MENDER, ann_method=annoy, dim_reduction=ica\n",
      "Skipping file: smender_MERFISH_annoy_ica_results.json\n",
      "Parsing file: metrics_per_batch_gt_annoy_nmf.json, parts: ['metrics', 'per', 'batch', 'gt', 'annoy', 'nmf.json']\n",
      "Extracted: type=gt, ann_method=annoy, dim_reduction=nmf\n",
      "Parsing file: metrics_per_batch_MENDER_annoy_nmf.json, parts: ['metrics', 'per', 'batch', 'MENDER', 'annoy', 'nmf.json']\n",
      "Extracted: type=MENDER, ann_method=annoy, dim_reduction=nmf\n",
      "Skipping file: smender_MERFISH_annoy_nmf_results.json\n",
      "Parsing file: metrics_per_batch_gt_hnsw_pca.json, parts: ['metrics', 'per', 'batch', 'gt', 'hnsw', 'pca.json']\n",
      "Extracted: type=gt, ann_method=hnsw, dim_reduction=pca\n",
      "Parsing file: metrics_per_batch_MENDER_hnsw_pca.json, parts: ['metrics', 'per', 'batch', 'MENDER', 'hnsw', 'pca.json']\n",
      "Extracted: type=MENDER, ann_method=hnsw, dim_reduction=pca\n",
      "Skipping file: smender_MERFISH_hnsw_pca_results.json\n",
      "Parsing file: metrics_per_batch_gt_hnsw_fa.json, parts: ['metrics', 'per', 'batch', 'gt', 'hnsw', 'fa.json']\n",
      "Extracted: type=gt, ann_method=hnsw, dim_reduction=fa\n",
      "Parsing file: metrics_per_batch_MENDER_hnsw_fa.json, parts: ['metrics', 'per', 'batch', 'MENDER', 'hnsw', 'fa.json']\n",
      "Extracted: type=MENDER, ann_method=hnsw, dim_reduction=fa\n",
      "Skipping file: smender_MERFISH_hnsw_fa_results.json\n",
      "Parsing file: metrics_per_batch_gt_hnsw_ica.json, parts: ['metrics', 'per', 'batch', 'gt', 'hnsw', 'ica.json']\n",
      "Extracted: type=gt, ann_method=hnsw, dim_reduction=ica\n",
      "Parsing file: metrics_per_batch_MENDER_hnsw_ica.json, parts: ['metrics', 'per', 'batch', 'MENDER', 'hnsw', 'ica.json']\n",
      "Extracted: type=MENDER, ann_method=hnsw, dim_reduction=ica\n",
      "Skipping file: smender_MERFISH_hnsw_ica_results.json\n",
      "Parsing file: metrics_per_batch_gt_hnsw_nmf.json, parts: ['metrics', 'per', 'batch', 'gt', 'hnsw', 'nmf.json']\n",
      "Extracted: type=gt, ann_method=hnsw, dim_reduction=nmf\n",
      "Parsing file: metrics_per_batch_MENDER_hnsw_nmf.json, parts: ['metrics', 'per', 'batch', 'MENDER', 'hnsw', 'nmf.json']\n",
      "Extracted: type=MENDER, ann_method=hnsw, dim_reduction=nmf\n",
      "Skipping file: smender_MERFISH_hnsw_nmf_results.json\n",
      "Parsing file: metrics_per_batch_gt_none_pca.json, parts: ['metrics', 'per', 'batch', 'gt', 'none', 'pca.json']\n",
      "Extracted: type=gt, ann_method=none, dim_reduction=pca\n",
      "Parsing file: metrics_per_batch_MENDER_none_pca.json, parts: ['metrics', 'per', 'batch', 'MENDER', 'none', 'pca.json']\n",
      "Extracted: type=MENDER, ann_method=none, dim_reduction=pca\n",
      "Skipping file: smender_MERFISH_none_pca_results.json\n",
      "Parsing file: metrics_per_batch_gt_none_fa.json, parts: ['metrics', 'per', 'batch', 'gt', 'none', 'fa.json']\n",
      "Extracted: type=gt, ann_method=none, dim_reduction=fa\n",
      "Parsing file: metrics_per_batch_MENDER_none_fa.json, parts: ['metrics', 'per', 'batch', 'MENDER', 'none', 'fa.json']\n",
      "Extracted: type=MENDER, ann_method=none, dim_reduction=fa\n",
      "Skipping file: smender_MERFISH_none_fa_results.json\n",
      "Parsing file: metrics_per_batch_gt_none_ica.json, parts: ['metrics', 'per', 'batch', 'gt', 'none', 'ica.json']\n",
      "Extracted: type=gt, ann_method=none, dim_reduction=ica\n",
      "Parsing file: metrics_per_batch_MENDER_none_ica.json, parts: ['metrics', 'per', 'batch', 'MENDER', 'none', 'ica.json']\n",
      "Extracted: type=MENDER, ann_method=none, dim_reduction=ica\n",
      "Skipping file: smender_MERFISH_none_ica_results.json\n",
      "Parsing file: metrics_per_batch_gt_none_nmf.json, parts: ['metrics', 'per', 'batch', 'gt', 'none', 'nmf.json']\n",
      "Extracted: type=gt, ann_method=none, dim_reduction=nmf\n",
      "Parsing file: metrics_per_batch_MENDER_none_nmf.json, parts: ['metrics', 'per', 'batch', 'MENDER', 'none', 'nmf.json']\n",
      "Extracted: type=MENDER, ann_method=none, dim_reduction=nmf\n",
      "Skipping file: smender_MERFISH_none_nmf_results.json\n"
     ]
    }
   ],
   "source": [
    "# Initialize data storage\n",
    "data = []\n",
    "\n",
    "# Regex pattern to match only metrics_per_batch_*.json files\n",
    "pattern = re.compile(r\"metrics_per_batch_.*\\.json$\")\n",
    "\n",
    "# Read all relevant JSON files\n",
    "for subdir in subdirs:\n",
    "    dir_path = os.path.join(merfish_dir, subdir)\n",
    "    if not os.path.exists(dir_path):\n",
    "        print(f\"Directory not found: {dir_path}\")\n",
    "        continue\n",
    "    for file in os.listdir(dir_path):\n",
    "        if not pattern.match(file):\n",
    "            print(f\"Skipping file: {file}\")\n",
    "            continue  # Skip files that don't match the pattern\n",
    "        file_path = os.path.join(dir_path, file)\n",
    "        with open(file_path, \"r\") as f:\n",
    "            metrics = json.load(f)\n",
    "        \n",
    "        # Parse filename to extract type, ann_method, dim_reduction\n",
    "        parts = file.split(\"_\")\n",
    "        print(f\"Parsing file: {file}, parts: {parts}\")\n",
    "        if len(parts) < 6:  # Adjusted for potential extra prefix\n",
    "            print(f\"Invalid filename format, skipping: {file}\")\n",
    "            continue\n",
    "        type_ = parts[3]  # Should be 'MENDER' (or 'gt', but we'll filter later)\n",
    "        ann_method = parts[4] if parts[4] != \"none\" else \"none\"\n",
    "        dim_reduction = parts[5].split(\".\")[0]\n",
    "        print(f\"Extracted: type={type_}, ann_method={ann_method}, dim_reduction={dim_reduction}\")\n",
    "        \n",
    "        # Extract metrics for each donor\n",
    "        for donor, values in metrics.items():\n",
    "            row = {\n",
    "                \"type\": type_,\n",
    "                \"ann_method\": ann_method,\n",
    "                \"dim_reduction\": dim_reduction,\n",
    "                \"donor\": donor\n",
    "            }\n",
    "            # Include all metrics, even if missing (will be NaN in DataFrame)\n",
    "            row.update(values)\n",
    "            data.append(row)\n"
   ]
  },
  {
   "cell_type": "markdown",
   "id": "2cfd5539",
   "metadata": {},
   "source": [
    "#### Per Batch Boxplots:"
   ]
  },
  {
   "cell_type": "code",
   "execution_count": null,
   "id": "69f4c2bb",
   "metadata": {},
   "outputs": [
    {
     "name": "stdout",
     "output_type": "stream",
     "text": [
      "DataFrame columns: ['type', 'ann_method', 'dim_reduction', 'donor', 'PAS', 'CHAOS', 'NMI', 'ARI']\n",
      "DataFrame sample:\n",
      "   type ann_method dim_reduction                         donor    PAS  CHAOS  \\\n",
      "0   gt      annoy           pca  MsBrainAgingSpatialDonor_1_0  0.046  0.015   \n",
      "1   gt      annoy           pca  MsBrainAgingSpatialDonor_2_0  0.039  0.016   \n",
      "2   gt      annoy           pca  MsBrainAgingSpatialDonor_2_1  0.029  0.013   \n",
      "3   gt      annoy           pca  MsBrainAgingSpatialDonor_3_0  0.028  0.015   \n",
      "4   gt      annoy           pca  MsBrainAgingSpatialDonor_3_1  0.028  0.016   \n",
      "\n",
      "   NMI  ARI  \n",
      "0  NaN  NaN  \n",
      "1  NaN  NaN  \n",
      "2  NaN  NaN  \n",
      "3  NaN  NaN  \n",
      "4  NaN  NaN  \n",
      "Processing type: MENDER, number of rows: 372\n",
      "ANN plot for NMI, pca rows: 93\n",
      "Dim reduction plot for NMI, none ANN rows: 124\n",
      "ANN plot for ARI, pca rows: 93\n",
      "Dim reduction plot for ARI, none ANN rows: 124\n",
      "ANN plot for PAS, pca rows: 93\n",
      "Dim reduction plot for PAS, none ANN rows: 124\n",
      "ANN plot for CHAOS, pca rows: 93\n",
      "Dim reduction plot for CHAOS, none ANN rows: 124\n"
     ]
    },
    {
     "ename": "NameError",
     "evalue": "name 'output_dir' is not defined",
     "output_type": "error",
     "traceback": [
      "\u001b[1;31m---------------------------------------------------------------------------\u001b[0m",
      "\u001b[1;31mNameError\u001b[0m                                 Traceback (most recent call last)",
      "Cell \u001b[1;32mIn[8], line 77\u001b[0m\n\u001b[0;32m     66\u001b[0m     \u001b[38;5;28mprint\u001b[39m(\u001b[38;5;124mf\u001b[39m\u001b[38;5;124m\"\u001b[39m\u001b[38;5;124mDim reduction plot for \u001b[39m\u001b[38;5;132;01m{\u001b[39;00mmetric\u001b[38;5;132;01m}\u001b[39;00m\u001b[38;5;124m, none ANN rows: \u001b[39m\u001b[38;5;132;01m{\u001b[39;00m\u001b[38;5;28mlen\u001b[39m(df_dim)\u001b[38;5;132;01m}\u001b[39;00m\u001b[38;5;124m\"\u001b[39m)\n\u001b[0;32m     67\u001b[0m     create_box_plot(\n\u001b[0;32m     68\u001b[0m         df_dim,\n\u001b[0;32m     69\u001b[0m         type_,\n\u001b[1;32m   (...)\u001b[0m\n\u001b[0;32m     74\u001b[0m         \u001b[38;5;124mf\u001b[39m\u001b[38;5;124m\"\u001b[39m\u001b[38;5;132;01m{\u001b[39;00mtype_\u001b[38;5;241m.\u001b[39mlower()\u001b[38;5;132;01m}\u001b[39;00m\u001b[38;5;124m_dim_\u001b[39m\u001b[38;5;132;01m{\u001b[39;00mmetric\u001b[38;5;241m.\u001b[39mlower()\u001b[38;5;132;01m}\u001b[39;00m\u001b[38;5;124m\"\u001b[39m\n\u001b[0;32m     75\u001b[0m     )\n\u001b[1;32m---> 77\u001b[0m \u001b[38;5;28mprint\u001b[39m(\u001b[38;5;124mf\u001b[39m\u001b[38;5;124m\"\u001b[39m\u001b[38;5;124mPlots saved to \u001b[39m\u001b[38;5;132;01m{\u001b[39;00m\u001b[43moutput_dir\u001b[49m\u001b[38;5;132;01m}\u001b[39;00m\u001b[38;5;124m\"\u001b[39m)\n",
      "\u001b[1;31mNameError\u001b[0m: name 'output_dir' is not defined"
     ]
    }
   ],
   "source": [
    "# Create DataFrame\n",
    "df = pd.DataFrame(data)\n",
    "\n",
    "# Print DataFrame columns and sample for debugging\n",
    "print(\"DataFrame columns:\", df.columns.tolist())\n",
    "print(\"DataFrame sample:\\n\", df.head())\n",
    "\n",
    "# Define metrics for MENDER\n",
    "metrics = {\n",
    "    \"MENDER\": [\"NMI\", \"ARI\", \"PAS\", \"CHAOS\"]\n",
    "}\n",
    "ann_methods = [\"annoy\", \"hnsw\", \"none\"]\n",
    "dim_reductions = [\"pca\", \"fa\", \"ica\", \"nmf\"]\n",
    "\n",
    "# Check if 'type' column exists\n",
    "if 'type' not in df.columns:\n",
    "    print(\"Error: 'type' column not found in DataFrame. Check filename parsing.\")\n",
    "    raise KeyError(\"'type' column missing in DataFrame\")\n",
    "\n",
    "# Function to create box plots\n",
    "def create_box_plot(df_subset, type_, metric, group_by, group_values, title_prefix, filename_prefix):\n",
    "    # Filter out rows where the metric is missing (NaN)\n",
    "    df_subset = df_subset[df_subset[metric].notnull()]\n",
    "    if df_subset.empty:\n",
    "        print(f\"Warning: No data for {metric} in {type_} for {group_by} plot. Skipping.\")\n",
    "        return\n",
    "    plt.figure(figsize=(10, 6))\n",
    "    ax = sns.boxplot(\n",
    "        x=group_by,\n",
    "        y=metric,\n",
    "        data=df_subset,\n",
    "        order=group_values,\n",
    "        flierprops=dict(marker='o', markerfacecolor='maroon', markeredgecolor='maroon', markersize=8)\n",
    "    )\n",
    "    # Set transparency for box plots\n",
    "    for patch in ax.patches:\n",
    "        patch.set_alpha(0.4)\n",
    "    plt.title(f\"{title_prefix} SMENDER\")\n",
    "    plt.xlabel(group_by.replace(\"_\", \" \").title())\n",
    "    plt.ylabel(metric)\n",
    "    plt.tight_layout()\n",
    "    # Save without redundant metric in filename\n",
    "    plt.savefig(os.path.join(merfish_output_dir, f\"{filename_prefix}.png\"))\n",
    "    plt.close()\n",
    "\n",
    "# Generate plots for MENDER only\n",
    "type_ = \"MENDER\"\n",
    "df_type = df[df[\"type\"] == type_]\n",
    "print(f\"Processing type: {type_}, number of rows: {len(df_type)}\")\n",
    "for metric in metrics[type_]:\n",
    "    # Box plot by ANN method (only pca dim_reduction)\n",
    "    df_ann = df_type[df_type[\"dim_reduction\"] == \"pca\"]\n",
    "    print(f\"ANN plot for {metric}, pca rows: {len(df_ann)}\")\n",
    "    create_box_plot(\n",
    "        df_ann,\n",
    "        type_,\n",
    "        metric,\n",
    "        \"ann_method\",\n",
    "        ann_methods,\n",
    "        f\"Box Plot of {metric} by ANN Method for\",\n",
    "        f\"{type_.lower()}_ann_{metric.lower()}\"\n",
    "    )\n",
    "    \n",
    "    # Box plot by dimensionality reduction (only none ann_method)\n",
    "    df_dim = df_type[df_type[\"ann_method\"] == \"none\"]\n",
    "    print(f\"Dim reduction plot for {metric}, none ANN rows: {len(df_dim)}\")\n",
    "    create_box_plot(\n",
    "        df_dim,\n",
    "        type_,\n",
    "        metric,\n",
    "        \"dim_reduction\",\n",
    "        dim_reductions,\n",
    "        f\"Box Plot of {metric} by Linear Dimensionality Reduction for\",\n",
    "        f\"{type_.lower()}_dim_{metric.lower()}\"\n",
    "    )\n",
    "\n",
    "print(f\"Plots saved to {merfish_output_dir}\")"
   ]
  },
  {
   "cell_type": "markdown",
   "id": "90e090c4",
   "metadata": {},
   "source": [
    "## Visium MOB Analysis"
   ]
  },
  {
   "cell_type": "code",
   "execution_count": null,
   "id": "52ec37ef",
   "metadata": {},
   "outputs": [],
   "source": [
    "# TODO"
   ]
  }
 ],
 "metadata": {
  "kernelspec": {
   "display_name": "smender-venv",
   "language": "python",
   "name": "python3"
  },
  "language_info": {
   "codemirror_mode": {
    "name": "ipython",
    "version": 3
   },
   "file_extension": ".py",
   "mimetype": "text/x-python",
   "name": "python",
   "nbconvert_exporter": "python",
   "pygments_lexer": "ipython3",
   "version": "3.10.11"
  }
 },
 "nbformat": 4,
 "nbformat_minor": 5
}
