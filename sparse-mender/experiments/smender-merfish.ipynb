{
 "cells": [
  {
   "cell_type": "markdown",
   "id": "2fb417d8",
   "metadata": {},
   "source": [
    "# Sparse-MENDER MERFISH Experiments"
   ]
  },
  {
   "cell_type": "markdown",
   "id": "786ba50d",
   "metadata": {},
   "source": [
    "### Import Dependencies"
   ]
  },
  {
   "cell_type": "code",
   "execution_count": null,
   "id": "edeeb006",
   "metadata": {},
   "outputs": [],
   "source": [
    "import warnings\n",
    "warnings.filterwarnings(\"ignore\")\n",
    "\n",
    "import os\n",
    "import json\n",
    "import numpy as np\n",
    "import scanpy as sc\n",
    "import matplotlib.pyplot as plt\n",
    "import sys\n",
    "sys.path.append(\"..\")\n",
    "from smender.data_loader import DataLoader\n",
    "from smender.SMENDER import SMENDER\n",
    "from smender.utils import compute_NMI, compute_ARI, compute_PAS, compute_CHAOS\n",
    "from ann.AnnoyANN import AnnoyANN\n",
    "from ann.FaissANN import FaissANN\n",
    "from ann.HNSWANN import HNSWANN"
   ]
  },
  {
   "cell_type": "markdown",
   "id": "19054d43",
   "metadata": {},
   "source": [
    "### Define Configuration, Constants and Directories"
   ]
  },
  {
   "cell_type": "code",
   "execution_count": null,
   "id": "f0ffd196",
   "metadata": {},
   "outputs": [],
   "source": [
    "# Configuration\n",
    "ANN_TYPE = 'annoy'  # Options: 'annoy', 'faiss', 'hnsw', 'none'\n",
    "DIM_REDUCTION = 'pca'  # Options: 'pca', 'nmf', 'ica', 'fa'\n",
    "\n",
    "# Configuration for plots and results\n",
    "ANN_TYPE_STR = 'Annoy' # Options: 'Annoy', 'FAISS', 'HNSW', 'ENN'\n",
    "DIM_REDUCTION_STR = 'PCA' # Options: 'PCA', 'NMF', 'ICA', 'FA'\n",
    "DATASET_STR = \"MERFISH\"\n",
    "\n",
    "# Validate ANN_TYPE\n",
    "ANN_MAP = {\n",
    "    'annoy': AnnoyANN,\n",
    "    'faiss': FaissANN,\n",
    "    'hnsw': HNSWANN,\n",
    "    'none': None\n",
    "}\n",
    "if ANN_TYPE not in ANN_MAP:\n",
    "    raise ValueError(f\"Invalid ANN_TYPE: {ANN_TYPE}. Choose from {list(ANN_MAP.keys())}\")\n",
    "SELECTED_ANN = ANN_MAP[ANN_TYPE]\n",
    "\n",
    "# Validate DIM_REDUCTION\n",
    "VALID_DIM_REDUCTIONS = ['pca', 'nmf', 'ica', 'fa']\n",
    "if DIM_REDUCTION not in VALID_DIM_REDUCTIONS:\n",
    "    raise ValueError(f\"Invalid DIM_REDUCTION: {DIM_REDUCTION}. Choose from {VALID_DIM_REDUCTIONS}\")\n",
    "\n",
    "# Define dataset\n",
    "dataset_name = \"Allen2022Molecular_aging\"\n",
    "\n",
    "# Multiprocessing for final SMENDER run\n",
    "MP_PROCESSES = 4  # Adjust based on CPU cores\n",
    "\n",
    "# Set random seeds for reproducibility\n",
    "seed = 100\n",
    "np.random.seed(seed)\n",
    "sc.settings.verbosity = 1\n",
    "\n",
    "# Define directories\n",
    "result_dir = os.path.join(os.path.pardir, \"results\", \"merfish\", ANN_TYPE)\n",
    "plots_result_dir = os.path.join(os.path.pardir, \"plots\", \"merfish\", ANN_TYPE)\n",
    "os.makedirs(result_dir, exist_ok=True)\n",
    "os.makedirs(plots_result_dir, exist_ok=True)\n",
    "\n",
    "# Define ground truth key\n",
    "ground_truth_key = 'gt'"
   ]
  },
  {
   "cell_type": "markdown",
   "id": "82ad6cfa",
   "metadata": {},
   "source": [
    "### Load the MERFISH Dataset"
   ]
  },
  {
   "cell_type": "code",
   "execution_count": null,
   "id": "12327a22",
   "metadata": {},
   "outputs": [],
   "source": [
    "# Load MERSCOPE Dataset from SODB\n",
    "loader = DataLoader(\"Allen2022Molecular_aging\")\n",
    "adata_dict = loader.load()"
   ]
  },
  {
   "cell_type": "markdown",
   "id": "8dcc1606",
   "metadata": {},
   "source": [
    "### Prepare Dictionaries to Store Final Results "
   ]
  },
  {
   "cell_type": "code",
   "execution_count": null,
   "id": "c63b34e0",
   "metadata": {},
   "outputs": [],
   "source": [
    "results_dict = {}\n",
    "scores_dict = {}\n",
    "adata_list = []"
   ]
  },
  {
   "cell_type": "markdown",
   "id": "0d73c2e8",
   "metadata": {},
   "source": [
    "### Run SMENDER"
   ]
  },
  {
   "cell_type": "code",
   "execution_count": null,
   "id": "f3441ec6",
   "metadata": {},
   "outputs": [],
   "source": [
    "# Prepare input data\n",
    "print(\"Preparing input data...\")\n",
    "adata_list = []\n",
    "for si in adata_dict.keys():\n",
    "    adata = adata_dict[si]\n",
    "    adata.obs['slice_id'] = si\n",
    "    adata_list.append(adata)\n",
    "adata_raw = adata_list[0].concatenate(adata_list[1:])\n",
    "adata_raw.obs['slice_id'] = adata_raw.obs['slice_id'].astype('category')\n",
    "adata_raw.obs[ground_truth_key] = adata_raw.obs['tissue'].astype('category')\n",
    "adata_raw.obs['ct'] = adata_raw.obs['clust_annot'].astype('category')\n",
    "batch_obs = 'slice_id'\n",
    "\n",
    "adata = adata_raw.copy()\n",
    "\n",
    "# Run SMENDER\n",
    "print(\"Running SMENDER...\")\n",
    "smender = SMENDER(\n",
    "    adata,\n",
    "    batch_obs='slice_id',\n",
    "    ct_obs='ct',\n",
    "    random_seed=seed,\n",
    "    verbose=0,\n",
    "    ann=SELECTED_ANN,\n",
    "    dim_reduction=DIM_REDUCTION\n",
    ")\n",
    "\n",
    "# Start tracking time and memory\n",
    "smender.start_smender_timing()\n",
    "smender.start_smender_memory()\n",
    "smender.start_dim_reduction_timing()\n",
    "smender.start_dim_reduction_memory()\n",
    "smender.start_nn_timing()\n",
    "smender.start_nn_memory()\n",
    "\n",
    "print(\"Setting SMENDER parameters...\")\n",
    "smender.prepare()\n",
    "smender.set_MENDER_para(\n",
    "    nn_mode='radius',\n",
    "    nn_para=15,\n",
    "    n_scales=6\n",
    ")\n",
    "\n",
    "print(\"Extracting multi-scale context representation...\")\n",
    "smender.run_representation_mp(mp=MP_PROCESSES)\n",
    "\n",
    "print(\"Running clustering...\")\n",
    "smender.run_clustering_normal(-0.1)\n",
    "\n",
    "# Stop tracking time and memory\n",
    "performance_metrics = {\n",
    "    'smender_time': smender.stop_smender_timing(),\n",
    "    'smender_memory': smender.stop_smender_memory(),\n",
    "    'dim_reduction_time': smender.stop_dim_reduction_timing(),\n",
    "    'dim_reduction_memory': smender.stop_dim_reduction_memory(),\n",
    "    'nn_time': smender.stop_nn_timing(),\n",
    "    'nn_memory': smender.stop_nn_memory()\n",
    "}\n",
    "print(f\"\\nPerformance Metrics:\\n{performance_metrics}\")\n",
    "\n",
    "# Transfer clusters\n",
    "pred_key = \"smender_clusters\"\n",
    "adata_raw.obs[pred_key] = smender.adata_MENDER.obs['MENDER'].astype('category')"
   ]
  },
  {
   "cell_type": "markdown",
   "id": "def3a471",
   "metadata": {},
   "source": [
    "### Compute Metrics"
   ]
  },
  {
   "cell_type": "code",
   "execution_count": null,
   "id": "af293f0f",
   "metadata": {},
   "outputs": [],
   "source": [
    "# Function to compute metrics\n",
    "def compute_metrics(adata, ground_truth_key, cluster_key):\n",
    "    if ground_truth_key not in adata.obs or cluster_key not in adata.obs:\n",
    "        raise KeyError(f\"One or both keys ({ground_truth_key}, {cluster_key}) not found in adata.obs\")\n",
    "    if adata.obs[ground_truth_key].isna().any() or adata.obs[cluster_key].isna().any():\n",
    "        raise ValueError(f\"NaN values found in {ground_truth_key} or {cluster_key}. Handle NaN values before computing metrics.\")\n",
    "    return {\n",
    "        'NMI': compute_NMI(adata, ground_truth_key, cluster_key),\n",
    "        'ARI': compute_ARI(adata, ground_truth_key, cluster_key),\n",
    "        'PAS': compute_PAS(adata, cluster_key),\n",
    "        'CHAOS': compute_CHAOS(adata, cluster_key)\n",
    "    }\n",
    "\n",
    "# Compute overall metrics\n",
    "print(\"Computing metrics...\")\n",
    "final_scores = compute_metrics(adata_raw, ground_truth_key, pred_key)\n",
    "print(f\"\\nFinal Metrics:\\n{final_scores}\")"
   ]
  },
  {
   "cell_type": "markdown",
   "id": "440ab663",
   "metadata": {},
   "source": [
    "### Visualize"
   ]
  },
  {
   "cell_type": "code",
   "execution_count": null,
   "id": "83dc6f13",
   "metadata": {},
   "outputs": [],
   "source": [
    "# Function to plot UMAP\n",
    "def plot_umap(adata, title, color_key, prefix, save_path=None):\n",
    "    _, ax = plt.subplots()\n",
    "    main_title = f\"{prefix} - {title}\"\n",
    "    subtitle = f'{DATASET_STR} - {ANN_TYPE_STR} + {DIM_REDUCTION_STR}'\n",
    "    sc.pl.umap(adata, color=color_key, title=main_title, subtitle=subtitle, ax=ax, show=False)\n",
    "    if save_path:\n",
    "        plt.savefig(save_path, dpi=200, bbox_inches='tight')\n",
    "        plt.close()"
   ]
  },
  {
   "cell_type": "code",
   "execution_count": null,
   "id": "e86aacb3",
   "metadata": {},
   "outputs": [],
   "source": [
    "# Plot UMAP for ground truth\n",
    "final_umap_gt_path = os.path.join(plots_result_dir, f\"final_ground_truth_umap_{DATASET_STR}_{ANN_TYPE_STR}_{DIM_REDUCTION_STR}.png\")\n",
    "plot_umap(adata_raw, \"All Samples\", ground_truth_key, \"Ground Truth\", save_path=final_umap_gt_path)"
   ]
  },
  {
   "cell_type": "code",
   "execution_count": null,
   "id": "2340b793",
   "metadata": {},
   "outputs": [],
   "source": [
    "# Plot UMAP for SMENDER clusters\n",
    "final_umap_smender_path = os.path.join(plots_result_dir, f\"final_smender_clusters_umap_{DATASET_STR}_{ANN_TYPE_STR}_{DIM_REDUCTION_STR}.png\")\n",
    "plot_umap(adata_raw, \"All Samples\", pred_key, \"SMENDER\", save_path=final_umap_smender_path)"
   ]
  },
  {
   "cell_type": "code",
   "execution_count": null,
   "id": "10351cf6",
   "metadata": {},
   "outputs": [],
   "source": [
    "# Spatial plots\n",
    "print(\"Generating spatial plots...\")\n",
    "def output_cluster_all_modified(smender, obs='MENDER', obs_gt=ground_truth_key, dirname=plots_result_dir):\n",
    "    smender.adata_MENDER.obs[smender.batch_obs] = smender.adata_MENDER.obs[smender.batch_obs].astype('category')\n",
    "    for si in smender.adata_MENDER.obs[smender.batch_obs].cat.categories:\n",
    "        cur_a = smender.adata_MENDER[smender.adata_MENDER.obs[smender.batch_obs] == si]\n",
    "        main_title = si\n",
    "        subsubtitle = f'{DIM_REDUCTION_STR} - {ANN_TYPE_STR}'\n",
    "        if obs_gt and obs_gt in cur_a.obs:\n",
    "            nmi = np.round(compute_NMI(cur_a, obs_gt, obs), 3)\n",
    "            ari = np.round(compute_ARI(cur_a, obs_gt, obs), 3)\n",
    "            pas = np.round(compute_PAS(cur_a, obs), 3)\n",
    "            chaos = np.round(compute_CHAOS(cur_a, obs), 3)\n",
    "            subtitle = f'NMI: {nmi}  ARI: {ari}  PAS: {pas}  CHAOS: {chaos}'\n",
    "        else:\n",
    "            pas = np.round(compute_PAS(cur_a, obs), 3)\n",
    "            chaos = np.round(compute_CHAOS(cur_a, obs), 3)\n",
    "            subtitle = f'PAS: {pas}  CHAOS: {chaos}'\n",
    "        fig, ax = plt.subplots()\n",
    "        sc.pl.embedding(cur_a, basis='spatial', color=obs, ax=ax, show=False)\n",
    "        ax.axis('equal')\n",
    "        fig.suptitle(main_title, fontsize=12, y=1.06)\n",
    "        ax.set_title(subtitle, fontsize=10, pad=20)\n",
    "        ax.text(0.5, 1.04, subsubtitle, transform=ax.transAxes, fontsize=8, ha='center', va='center')\n",
    "        save_path = os.path.join(dirname, f\"spatial_{si}_{obs}_{ANN_TYPE}_{DIM_REDUCTION}.png\")\n",
    "        plt.savefig(save_path, dpi=200, bbox_inches='tight')\n",
    "        plt.close()\n",
    "\n",
    "output_cluster_all_modified(smender, obs='MENDER', obs_gt=ground_truth_key)\n",
    "output_cluster_all_modified(smender, obs=ground_truth_key, obs_gt=None)"
   ]
  },
  {
   "cell_type": "markdown",
   "id": "2aaaf891",
   "metadata": {},
   "source": [
    "### Save Results"
   ]
  },
  {
   "cell_type": "code",
   "execution_count": null,
   "id": "487bdb07",
   "metadata": {},
   "outputs": [],
   "source": [
    "# Save results\n",
    "output_file = os.path.join(result_dir, f\"smender_{DATASET_STR}_{ANN_TYPE_STR}_{DIM_REDUCTION_STR}_results.json\")\n",
    "with open(output_file, 'w') as f:\n",
    "    json.dump({\n",
    "        'results': {\n",
    "            'n_cells': adata_raw.n_obs,\n",
    "            'n_genes': adata_raw.n_vars,\n",
    "            'cluster_counts': adata_raw.obs['smender_clusters'].value_counts().to_dict()\n",
    "        },\n",
    "        'scores': final_scores,\n",
    "        'performance': {\n",
    "            'smender_time_seconds': performance_metrics['smender_time'],\n",
    "            'smender_memory_mb': performance_metrics['smender_memory'],\n",
    "            'dim_reduction_time_seconds': performance_metrics['dim_reduction_time'],\n",
    "            'dim_reduction_memory_mb': performance_metrics['dim_reduction_memory'],\n",
    "            'nn_time_seconds': performance_metrics['nn_time'],\n",
    "            'nn_memory_mb': performance_metrics['nn_memory']\n",
    "        }\n",
    "    }, f, indent=4)\n",
    "print(f\"Results, scores, and performance metrics saved to {output_file}\")"
   ]
  }
 ],
 "metadata": {
  "kernelspec": {
   "display_name": "smender-venv",
   "language": "python",
   "name": "python3"
  },
  "language_info": {
   "codemirror_mode": {
    "name": "ipython",
    "version": 3
   },
   "file_extension": ".py",
   "mimetype": "text/x-python",
   "name": "python",
   "nbconvert_exporter": "python",
   "pygments_lexer": "ipython3",
   "version": "3.10.11"
  }
 },
 "nbformat": 4,
 "nbformat_minor": 5
}
