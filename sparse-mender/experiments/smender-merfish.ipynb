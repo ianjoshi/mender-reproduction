{
 "cells": [
  {
   "cell_type": "markdown",
   "id": "2fb417d8",
   "metadata": {},
   "source": [
    "# Sparse-MENDER MERFISH Experiments"
   ]
  },
  {
   "cell_type": "markdown",
   "id": "e212f0aa",
   "metadata": {},
   "source": [
    "### Import the Dataset"
   ]
  },
  {
   "cell_type": "code",
   "execution_count": 7,
   "id": "edeeb006",
   "metadata": {},
   "outputs": [],
   "source": [
    "# Imports\n",
    "import warnings\n",
    "warnings.filterwarnings(\"ignore\")\n",
    "\n",
    "import sys\n",
    "sys.path.append('../..')\n",
    "\n",
    "from utils.data_loader import DataLoader"
   ]
  },
  {
   "cell_type": "markdown",
   "id": "82ad6cfa",
   "metadata": {},
   "source": [
    "### Load the MERFISH Dataset"
   ]
  },
  {
   "cell_type": "code",
   "execution_count": null,
   "id": "12327a22",
   "metadata": {},
   "outputs": [
    {
     "name": "stdout",
     "output_type": "stream",
     "text": [
      "Loading dataset: Allen2022Molecular_aging\n",
      "download experiment[MsBrainAgingSpatialDonor_10_0] in dataset[Allen2022Molecular_aging]\n"
     ]
    },
    {
     "name": "stderr",
     "output_type": "stream",
     "text": [
      " 25%|██▌       | 13.4M/53.3M [00:08<00:22, 1.88MB/s]"
     ]
    }
   ],
   "source": [
    "# Load MERSCOPE Dataset from SODB\n",
    "loader = DataLoader(\"Allen2022Molecular_aging\")\n",
    "adata_dict = loader.load()\n",
    "adata = list(adata_dict.values())[0]\n",
    "\n",
    "# Copy the raw data for later use\n",
    "adata_raw = adata.copy()"
   ]
  }
 ],
 "metadata": {
  "kernelspec": {
   "display_name": "mender-venv",
   "language": "python",
   "name": "python3"
  },
  "language_info": {
   "codemirror_mode": {
    "name": "ipython",
    "version": 3
   },
   "file_extension": ".py",
   "mimetype": "text/x-python",
   "name": "python",
   "nbconvert_exporter": "python",
   "pygments_lexer": "ipython3",
   "version": "3.10.11"
  }
 },
 "nbformat": 4,
 "nbformat_minor": 5
}
