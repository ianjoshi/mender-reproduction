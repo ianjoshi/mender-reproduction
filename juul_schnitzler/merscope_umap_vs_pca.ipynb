{
 "cells": [
  {
   "cell_type": "code",
   "id": "initial_id",
   "metadata": {
    "collapsed": true,
    "ExecuteTime": {
     "end_time": "2025-06-26T10:45:10.257971Z",
     "start_time": "2025-06-26T10:45:02.794213Z"
    }
   },
   "source": [
    "# Imports\n",
    "import warnings\n",
    "warnings.filterwarnings(\"ignore\")\n",
    "\n",
    "import sys\n",
    "sys.path.append('..')\n",
    "\n",
    "import scanpy as sc\n",
    "import matplotlib.pyplot as plt\n",
    "from matplotlib.patches import Ellipse\n",
    "import numpy as np\n",
    "import MENDER\n",
    "\n",
    "from utils.data_loader import DataLoader"
   ],
   "outputs": [],
   "execution_count": 1
  },
  {
   "metadata": {
    "ExecuteTime": {
     "end_time": "2025-06-26T10:45:16.961532Z",
     "start_time": "2025-06-26T10:45:10.263259Z"
    }
   },
   "cell_type": "code",
   "source": [
    "# Load MERSCOPE Dataset from SODB\n",
    "loader = DataLoader(\"Dataset13_MS_raw\")\n",
    "adata_dict = loader.load()\n",
    "adata = list(adata_dict.values())[0]"
   ],
   "id": "f6dbe470fea0ca3b",
   "outputs": [
    {
     "name": "stdout",
     "output_type": "stream",
     "text": [
      "Loading dataset: Dataset13_MS_raw\n",
      "load experiment[Dataset13] in dataset[Dataset13_MS_raw]\n",
      "Dataset loaded successfully.\n"
     ]
    }
   ],
   "execution_count": 2
  },
  {
   "metadata": {
    "ExecuteTime": {
     "end_time": "2025-06-26T10:45:17.052908Z",
     "start_time": "2025-06-26T10:45:16.964496Z"
    }
   },
   "cell_type": "code",
   "source": [
    "# Check available batches and their slices\n",
    "adata.obs[['batch', 'slice_id']].drop_duplicates()\n"
   ],
   "id": "c213723206cd59ba",
   "outputs": [
    {
     "data": {
      "text/plain": [
       "                                          batch slice_id\n",
       "110883424764611924400221639916314253469-0     0     R1S1\n",
       "277373730858255322904479591336292143718-1     1     R2S1\n",
       "139968683432966769265787739231843442191-2     2     R3S1\n",
       "149164679103246548309819743981609972453-3     3     R1S2\n",
       "100442548580636641738686294721955425236-4     4     R2S2\n",
       "158338042824236264719696604356349910479-5     5     R3S2\n",
       "156852667528872626811117292962470921390-6     6     R1S3\n",
       "222213390088484216253925626300058690969-7     7     R2S3\n",
       "102664563492900048462363937849459428087-8     8     R3S3"
      ],
      "text/html": [
       "<div>\n",
       "<style scoped>\n",
       "    .dataframe tbody tr th:only-of-type {\n",
       "        vertical-align: middle;\n",
       "    }\n",
       "\n",
       "    .dataframe tbody tr th {\n",
       "        vertical-align: top;\n",
       "    }\n",
       "\n",
       "    .dataframe thead th {\n",
       "        text-align: right;\n",
       "    }\n",
       "</style>\n",
       "<table border=\"1\" class=\"dataframe\">\n",
       "  <thead>\n",
       "    <tr style=\"text-align: right;\">\n",
       "      <th></th>\n",
       "      <th>batch</th>\n",
       "      <th>slice_id</th>\n",
       "    </tr>\n",
       "  </thead>\n",
       "  <tbody>\n",
       "    <tr>\n",
       "      <th>110883424764611924400221639916314253469-0</th>\n",
       "      <td>0</td>\n",
       "      <td>R1S1</td>\n",
       "    </tr>\n",
       "    <tr>\n",
       "      <th>277373730858255322904479591336292143718-1</th>\n",
       "      <td>1</td>\n",
       "      <td>R2S1</td>\n",
       "    </tr>\n",
       "    <tr>\n",
       "      <th>139968683432966769265787739231843442191-2</th>\n",
       "      <td>2</td>\n",
       "      <td>R3S1</td>\n",
       "    </tr>\n",
       "    <tr>\n",
       "      <th>149164679103246548309819743981609972453-3</th>\n",
       "      <td>3</td>\n",
       "      <td>R1S2</td>\n",
       "    </tr>\n",
       "    <tr>\n",
       "      <th>100442548580636641738686294721955425236-4</th>\n",
       "      <td>4</td>\n",
       "      <td>R2S2</td>\n",
       "    </tr>\n",
       "    <tr>\n",
       "      <th>158338042824236264719696604356349910479-5</th>\n",
       "      <td>5</td>\n",
       "      <td>R3S2</td>\n",
       "    </tr>\n",
       "    <tr>\n",
       "      <th>156852667528872626811117292962470921390-6</th>\n",
       "      <td>6</td>\n",
       "      <td>R1S3</td>\n",
       "    </tr>\n",
       "    <tr>\n",
       "      <th>222213390088484216253925626300058690969-7</th>\n",
       "      <td>7</td>\n",
       "      <td>R2S3</td>\n",
       "    </tr>\n",
       "    <tr>\n",
       "      <th>102664563492900048462363937849459428087-8</th>\n",
       "      <td>8</td>\n",
       "      <td>R3S3</td>\n",
       "    </tr>\n",
       "  </tbody>\n",
       "</table>\n",
       "</div>"
      ]
     },
     "execution_count": 3,
     "metadata": {},
     "output_type": "execute_result"
    }
   ],
   "execution_count": 3
  },
  {
   "metadata": {
    "ExecuteTime": {
     "end_time": "2025-06-26T10:45:17.466209Z",
     "start_time": "2025-06-26T10:45:17.054906Z"
    }
   },
   "cell_type": "code",
   "source": [
    "# To avoid batch effect we focus on a single slice from the dataset\n",
    "adata_slice = adata[adata.obs['slice_id'] == 'R1S1'].copy()"
   ],
   "id": "f162c815a4f49b6b",
   "outputs": [],
   "execution_count": 4
  },
  {
   "metadata": {
    "ExecuteTime": {
     "end_time": "2025-06-26T11:54:56.368763Z",
     "start_time": "2025-06-26T10:45:17.470207Z"
    }
   },
   "cell_type": "code",
   "source": [
    "from MENDER import compute_PAS, compute_CHAOS\n",
    "from sklearn.metrics import adjusted_rand_score, normalized_mutual_info_score\n",
    "\n",
    "# Select slice R1S1 to avoid batch effects\n",
    "adata_slice = adata[adata.obs['slice_id'] == 'R1S1'].copy()\n",
    "\n",
    "# Preprocess for PCA\n",
    "adata_pca = adata_slice.copy()\n",
    "sc.pp.highly_variable_genes(adata_pca, flavor=\"seurat_v3\", n_top_genes=4000)\n",
    "sc.pp.normalize_total(adata_pca, inplace=True)\n",
    "sc.pp.log1p(adata_pca)\n",
    "sc.pp.pca(adata_pca)\n",
    "sc.pp.neighbors(adata_pca)\n",
    "sc.tl.leiden(adata_pca, resolution=2.0, key_added='ct_pca')\n",
    "adata_pca.obs['ct_pca'] = adata_pca.obs['ct_pca'].astype('category')\n",
    "\n",
    "print(\"=== PCA Evaluation ===\")\n",
    "ari_pca = adjusted_rand_score(adata_pca.obs['ct'], adata_pca.obs['ct_pca'])\n",
    "nmi_pca = normalized_mutual_info_score(adata_pca.obs['ct'], adata_pca.obs['ct_pca'])\n",
    "print(f\"Ground Truth ARI (PCA): {ari_pca:.3f}\")\n",
    "print(f\"Ground Truth NMI (PCA): {nmi_pca:.3f}\")\n",
    "\n",
    "# Run MENDER on PCA results\n",
    "msm_pca = MENDER.MENDER_single(adata_pca, ct_obs='ct_pca')\n",
    "msm_pca.set_MENDER_para(n_scales=2, nn_mode='ring', nn_para=6)\n",
    "msm_pca.run_representation()\n",
    "msm_pca.run_clustering_normal(-0.2)\n",
    "\n",
    "# MENDER metrics (PCA)\n",
    "nmi_dom_pca = normalized_mutual_info_score(msm_pca.adata_MENDER.obs['ct_pca'], msm_pca.adata_MENDER.obs['MENDER'])\n",
    "pas_pca = compute_PAS(msm_pca.adata_MENDER, pred_key='MENDER')\n",
    "chaos_pca = compute_CHAOS(msm_pca.adata_MENDER, pred_key='MENDER')\n",
    "\n",
    "print(\"--- PCA MENDER Evaluation ---\")\n",
    "print(f\"Spatial NMI: {nmi_dom_pca:.3f}\")\n",
    "print(f\"PAS: {pas_pca:.3f}\")\n",
    "print(f\"CHAOS: {chaos_pca:.3f}\")\n",
    "print()\n",
    "\n",
    "# UMAP comparisons\n",
    "n_components_list = [10, 20, 30, 40, 50]\n",
    "\n",
    "for n_comp in n_components_list:\n",
    "    print(f\"=== UMAP with {n_comp} components ===\")\n",
    "    \n",
    "    adata_umap = adata_slice.copy()\n",
    "    sc.pp.highly_variable_genes(adata_umap, flavor=\"seurat_v3\", n_top_genes=4000)\n",
    "    sc.pp.normalize_total(adata_umap, inplace=True)\n",
    "    sc.pp.log1p(adata_umap)\n",
    "    sc.pp.pca(adata_umap, n_comps=n_comp)\n",
    "    sc.pp.neighbors(adata_umap, n_pcs=n_comp)\n",
    "    sc.tl.umap(adata_umap)\n",
    "\n",
    "    ct_key = f'ct_umap_{n_comp}'\n",
    "    sc.tl.leiden(adata_umap, resolution=2.0, key_added=ct_key)\n",
    "    adata_umap.obs[ct_key] = adata_umap.obs[ct_key].astype('category')\n",
    "\n",
    "    # Compare clustering to ground truth\n",
    "    ari = adjusted_rand_score(adata_umap.obs['ct'], adata_umap.obs[ct_key])\n",
    "    nmi = normalized_mutual_info_score(adata_umap.obs['ct'], adata_umap.obs[ct_key])\n",
    "    print(f\"Ground Truth ARI: {ari:.3f}\")\n",
    "    print(f\"Ground Truth NMI: {nmi:.3f}\")\n",
    "\n",
    "    # Run MENDER on UMAP\n",
    "    msm = MENDER.MENDER_single(adata_umap, ct_obs=ct_key)\n",
    "    msm.set_MENDER_para(n_scales=2, nn_mode='ring', nn_para=6)\n",
    "    msm.run_representation()\n",
    "    msm.run_clustering_normal(-0.2)\n",
    "\n",
    "    # Domain Evaluation\n",
    "    msm.adata_MENDER.obs[ct_key] = adata_umap.obs[ct_key]\n",
    "    nmi_dom = normalized_mutual_info_score(msm.adata_MENDER.obs[ct_key], msm.adata_MENDER.obs['MENDER'])\n",
    "    pas = compute_PAS(msm.adata_MENDER, pred_key='MENDER')\n",
    "    chaos = compute_CHAOS(msm.adata_MENDER, pred_key='MENDER')\n",
    "\n",
    "    print(\"--- MENDER Evaluation ---\")\n",
    "    print(f\"Spatial NMI: {nmi_dom:.3f}\")\n",
    "    print(f\"PAS: {pas:.3f}\")\n",
    "    print(f\"CHAOS: {chaos:.3f}\")\n",
    "    print()\n"
   ],
   "id": "9389eb2657c01829",
   "outputs": [
    {
     "name": "stdout",
     "output_type": "stream",
     "text": [
      "WARNING: adata.X seems to be already log-transformed.\n",
      "=== PCA Evaluation ===\n",
      "Ground Truth ARI (PCA): 0.762\n",
      "Ground Truth NMI (PCA): 0.841\n",
      "scale 0, median #cells per ring (r=6): 6.0\n",
      "scale 1, median #cells per ring (r=6): 7.0\n",
      "--- PCA MENDER Evaluation ---\n",
      "Spatial NMI: 0.408\n",
      "PAS: 0.065\n",
      "CHAOS: 0.010\n",
      "\n",
      "=== UMAP with 10 components ===\n",
      "WARNING: adata.X seems to be already log-transformed.\n",
      "Ground Truth ARI: 0.612\n",
      "Ground Truth NMI: 0.737\n",
      "scale 0, median #cells per ring (r=6): 6.0\n",
      "scale 1, median #cells per ring (r=6): 7.0\n",
      "--- MENDER Evaluation ---\n",
      "Spatial NMI: 0.350\n",
      "PAS: 0.079\n",
      "CHAOS: 0.010\n",
      "\n",
      "=== UMAP with 20 components ===\n",
      "WARNING: adata.X seems to be already log-transformed.\n",
      "Ground Truth ARI: 0.682\n",
      "Ground Truth NMI: 0.811\n",
      "scale 0, median #cells per ring (r=6): 6.0\n",
      "scale 1, median #cells per ring (r=6): 7.0\n",
      "--- MENDER Evaluation ---\n",
      "Spatial NMI: 0.405\n",
      "PAS: 0.067\n",
      "CHAOS: 0.010\n",
      "\n",
      "=== UMAP with 30 components ===\n",
      "WARNING: adata.X seems to be already log-transformed.\n",
      "Ground Truth ARI: 0.737\n",
      "Ground Truth NMI: 0.830\n",
      "scale 0, median #cells per ring (r=6): 6.0\n",
      "scale 1, median #cells per ring (r=6): 7.0\n",
      "--- MENDER Evaluation ---\n",
      "Spatial NMI: 0.415\n",
      "PAS: 0.075\n",
      "CHAOS: 0.010\n",
      "\n",
      "=== UMAP with 40 components ===\n",
      "WARNING: adata.X seems to be already log-transformed.\n",
      "Ground Truth ARI: 0.779\n",
      "Ground Truth NMI: 0.848\n",
      "scale 0, median #cells per ring (r=6): 6.0\n",
      "scale 1, median #cells per ring (r=6): 7.0\n",
      "--- MENDER Evaluation ---\n",
      "Spatial NMI: 0.410\n",
      "PAS: 0.065\n",
      "CHAOS: 0.010\n",
      "\n",
      "=== UMAP with 50 components ===\n",
      "WARNING: adata.X seems to be already log-transformed.\n",
      "Ground Truth ARI: 0.762\n",
      "Ground Truth NMI: 0.841\n",
      "scale 0, median #cells per ring (r=6): 6.0\n",
      "scale 1, median #cells per ring (r=6): 7.0\n",
      "--- MENDER Evaluation ---\n",
      "Spatial NMI: 0.408\n",
      "PAS: 0.065\n",
      "CHAOS: 0.010\n",
      "\n"
     ]
    }
   ],
   "execution_count": 5
  },
  {
   "metadata": {
    "ExecuteTime": {
     "end_time": "2025-06-26T11:54:56.428237Z",
     "start_time": "2025-06-26T11:54:56.398610Z"
    }
   },
   "cell_type": "code",
   "source": "",
   "id": "a1f4f7a85a442794",
   "outputs": [],
   "execution_count": 5
  }
 ],
 "metadata": {
  "kernelspec": {
   "display_name": "Python 3",
   "language": "python",
   "name": "python3"
  },
  "language_info": {
   "codemirror_mode": {
    "name": "ipython",
    "version": 2
   },
   "file_extension": ".py",
   "mimetype": "text/x-python",
   "name": "python",
   "nbconvert_exporter": "python",
   "pygments_lexer": "ipython2",
   "version": "2.7.6"
  }
 },
 "nbformat": 4,
 "nbformat_minor": 5
}
