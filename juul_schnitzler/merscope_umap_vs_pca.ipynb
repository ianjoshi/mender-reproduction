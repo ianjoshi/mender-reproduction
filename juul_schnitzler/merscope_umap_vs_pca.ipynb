{
 "cells": [
  {
   "cell_type": "code",
   "id": "initial_id",
   "metadata": {
    "collapsed": true,
    "ExecuteTime": {
     "end_time": "2025-06-23T20:05:06.774040Z",
     "start_time": "2025-06-23T20:04:06.207795Z"
    }
   },
   "source": [
    "# Imports\n",
    "import warnings\n",
    "warnings.filterwarnings(\"ignore\")\n",
    "\n",
    "import sys\n",
    "sys.path.append('..')\n",
    "\n",
    "import scanpy as sc\n",
    "import matplotlib.pyplot as plt\n",
    "from matplotlib.patches import Ellipse\n",
    "import numpy as np\n",
    "import MENDER as mender\n",
    "\n",
    "from utils.data_loader import DataLoader"
   ],
   "outputs": [],
   "execution_count": 1
  },
  {
   "metadata": {
    "ExecuteTime": {
     "end_time": "2025-06-23T20:27:39.271725Z",
     "start_time": "2025-06-23T20:05:06.777876Z"
    }
   },
   "cell_type": "code",
   "source": [
    "# Load MERSCOPE Dataset from SODB\n",
    "loader = DataLoader(\"Dataset13_MS_raw\")\n",
    "adata_dict = loader.load()\n",
    "adata = list(adata_dict.values())[0]"
   ],
   "id": "f6dbe470fea0ca3b",
   "outputs": [
    {
     "name": "stdout",
     "output_type": "stream",
     "text": [
      "Loading dataset: Dataset13_MS_raw\n",
      "download experiment[Dataset13] in dataset[Dataset13_MS_raw]\n"
     ]
    },
    {
     "name": "stderr",
     "output_type": "stream",
     "text": [
      "100%|██████████| 1.64G/1.64G [22:23<00:00, 1.31MB/s]  \n"
     ]
    },
    {
     "name": "stdout",
     "output_type": "stream",
     "text": [
      "load experiment[Dataset13] in dataset[Dataset13_MS_raw]\n",
      "Dataset loaded successfully.\n"
     ]
    }
   ],
   "execution_count": 2
  },
  {
   "metadata": {
    "ExecuteTime": {
     "end_time": "2025-06-24T14:01:09.530844Z",
     "start_time": "2025-06-24T14:01:09.084379Z"
    }
   },
   "cell_type": "code",
   "source": [
    "# Check available batches and their slices\n",
    "adata.obs[['batch', 'slice_id']].drop_duplicates()\n"
   ],
   "id": "c213723206cd59ba",
   "outputs": [
    {
     "data": {
      "text/plain": [
       "                                          batch slice_id\n",
       "110883424764611924400221639916314253469-0     0     R1S1\n",
       "277373730858255322904479591336292143718-1     1     R2S1\n",
       "139968683432966769265787739231843442191-2     2     R3S1\n",
       "149164679103246548309819743981609972453-3     3     R1S2\n",
       "100442548580636641738686294721955425236-4     4     R2S2\n",
       "158338042824236264719696604356349910479-5     5     R3S2\n",
       "156852667528872626811117292962470921390-6     6     R1S3\n",
       "222213390088484216253925626300058690969-7     7     R2S3\n",
       "102664563492900048462363937849459428087-8     8     R3S3"
      ],
      "text/html": [
       "<div>\n",
       "<style scoped>\n",
       "    .dataframe tbody tr th:only-of-type {\n",
       "        vertical-align: middle;\n",
       "    }\n",
       "\n",
       "    .dataframe tbody tr th {\n",
       "        vertical-align: top;\n",
       "    }\n",
       "\n",
       "    .dataframe thead th {\n",
       "        text-align: right;\n",
       "    }\n",
       "</style>\n",
       "<table border=\"1\" class=\"dataframe\">\n",
       "  <thead>\n",
       "    <tr style=\"text-align: right;\">\n",
       "      <th></th>\n",
       "      <th>batch</th>\n",
       "      <th>slice_id</th>\n",
       "    </tr>\n",
       "  </thead>\n",
       "  <tbody>\n",
       "    <tr>\n",
       "      <th>110883424764611924400221639916314253469-0</th>\n",
       "      <td>0</td>\n",
       "      <td>R1S1</td>\n",
       "    </tr>\n",
       "    <tr>\n",
       "      <th>277373730858255322904479591336292143718-1</th>\n",
       "      <td>1</td>\n",
       "      <td>R2S1</td>\n",
       "    </tr>\n",
       "    <tr>\n",
       "      <th>139968683432966769265787739231843442191-2</th>\n",
       "      <td>2</td>\n",
       "      <td>R3S1</td>\n",
       "    </tr>\n",
       "    <tr>\n",
       "      <th>149164679103246548309819743981609972453-3</th>\n",
       "      <td>3</td>\n",
       "      <td>R1S2</td>\n",
       "    </tr>\n",
       "    <tr>\n",
       "      <th>100442548580636641738686294721955425236-4</th>\n",
       "      <td>4</td>\n",
       "      <td>R2S2</td>\n",
       "    </tr>\n",
       "    <tr>\n",
       "      <th>158338042824236264719696604356349910479-5</th>\n",
       "      <td>5</td>\n",
       "      <td>R3S2</td>\n",
       "    </tr>\n",
       "    <tr>\n",
       "      <th>156852667528872626811117292962470921390-6</th>\n",
       "      <td>6</td>\n",
       "      <td>R1S3</td>\n",
       "    </tr>\n",
       "    <tr>\n",
       "      <th>222213390088484216253925626300058690969-7</th>\n",
       "      <td>7</td>\n",
       "      <td>R2S3</td>\n",
       "    </tr>\n",
       "    <tr>\n",
       "      <th>102664563492900048462363937849459428087-8</th>\n",
       "      <td>8</td>\n",
       "      <td>R3S3</td>\n",
       "    </tr>\n",
       "  </tbody>\n",
       "</table>\n",
       "</div>"
      ]
     },
     "execution_count": 5,
     "metadata": {},
     "output_type": "execute_result"
    }
   ],
   "execution_count": 5
  },
  {
   "metadata": {
    "ExecuteTime": {
     "end_time": "2025-06-24T14:23:24.980907Z",
     "start_time": "2025-06-24T14:23:22.483540Z"
    }
   },
   "cell_type": "code",
   "source": [
    "# To avoid batch effect we focus on a single slice from the dataset\n",
    "adata_slice = adata[adata.obs['slice_id'] == 'R1S1'].copy()"
   ],
   "id": "f162c815a4f49b6b",
   "outputs": [],
   "execution_count": 6
  },
  {
   "metadata": {
    "ExecuteTime": {
     "end_time": "2025-06-24T15:30:11.187733Z",
     "start_time": "2025-06-24T14:53:43.555034Z"
    }
   },
   "cell_type": "code",
   "source": [
    "from MENDER import MENDER\n",
    "from sklearn.metrics import adjusted_rand_score, normalized_mutual_info_score\n",
    "\n",
    "# Look at one slice at a time (prevent batch effect)\n",
    "slice_ids = ['R1S1', 'R2S1', 'R3S1']  \n",
    "\n",
    "# Look at different number of principle components for umap\n",
    "n_components_list = [10, 20, 30, 40, 50]\n",
    "\n",
    "for slice_id in slice_ids:\n",
    "    print(\"Processing slice: \", slice_id)\n",
    "    adata_slice = adata[adata.obs['slice_id'] == slice_id].copy()\n",
    "    \n",
    "    # PCA baseline\n",
    "    adata_pca = adata_slice.copy()\n",
    "    sc.pp.highly_variable_genes(adata_pca, flavor=\"seurat_v3\", n_top_genes=4000)\n",
    "    sc.pp.normalize_total(adata_pca, inplace=True)\n",
    "    sc.pp.log1p(adata_pca)\n",
    "    sc.pp.pca(adata_pca)\n",
    "    sc.pp.neighbors(adata_pca)\n",
    "    sc.tl.leiden(adata_pca, resolution=2.0, key_added='ct_pca')\n",
    "    adata_pca.obs['ct_pca'] = adata_pca.obs['ct_pca'].astype('category')\n",
    "\n",
    "    for n_components in n_components_list:\n",
    "        print(\"### UMAP with \", n_components, \" components ###\")\n",
    "\n",
    "        adata_umap = adata_slice.copy()\n",
    "        sc.pp.highly_variable_genes(adata_umap, flavor=\"seurat_v3\", n_top_genes=4000)\n",
    "        sc.pp.normalize_total(adata_umap, inplace=True)\n",
    "        sc.pp.log1p(adata_umap)\n",
    "        sc.pp.pca(adata_umap, n_comps=n_components)\n",
    "        sc.pp.neighbors(adata_umap, n_pcs=n_components)\n",
    "        sc.tl.umap(adata_umap)\n",
    "        sc.tl.leiden(adata_umap, resolution=2.0, key_added='ct_umap')\n",
    "        adata_umap.obs['ct_umap'] = adata_umap.obs['ct_umap'].astype('category')\n",
    "\n",
    "        # Compare CT with PCA\n",
    "        ari = adjusted_rand_score(adata_pca.obs['ct_pca'], adata_umap.obs['ct_umap'])\n",
    "        nmi = normalized_mutual_info_score(adata_pca.obs['ct_pca'], adata_umap.obs['ct_umap'])\n",
    "        print(f\"Cell group ARI (vs PCA): {ari:.3f}\")\n",
    "        print(f\"Cell group NMI (vs PCA): {nmi:.3f}\")\n",
    "\n",
    "        # Compare CT with ground truth \n",
    "        ari_gt = adjusted_rand_score(adata_umap.obs['ct'], adata_umap.obs['ct_umap'])\n",
    "        nmi_gt = normalized_mutual_info_score(adata_umap.obs['ct'], adata_umap.obs['ct_umap'])\n",
    "        print(f\"CT vs Ground Truth ARI: {ari_gt:.3f}\")\n",
    "        print(f\"CT vs Ground Truth NMI: {nmi_gt:.3f}\")\n",
    "\n",
    "     \n"
   ],
   "id": "9389eb2657c01829",
   "outputs": [
    {
     "name": "stdout",
     "output_type": "stream",
     "text": [
      "Processing slice:  R1S1\n",
      "WARNING: adata.X seems to be already log-transformed.\n",
      "### UMAP with  10  components ###\n",
      "WARNING: adata.X seems to be already log-transformed.\n",
      "Cell group ARI (vs PCA): 0.675\n",
      "Cell group NMI (vs PCA): 0.766\n",
      "CT vs Ground Truth ARI: 0.612\n",
      "CT vs Ground Truth NMI: 0.737\n",
      "### UMAP with  20  components ###\n",
      "WARNING: adata.X seems to be already log-transformed.\n",
      "Cell group ARI (vs PCA): 0.753\n",
      "Cell group NMI (vs PCA): 0.847\n",
      "CT vs Ground Truth ARI: 0.682\n",
      "CT vs Ground Truth NMI: 0.811\n",
      "### UMAP with  30  components ###\n",
      "WARNING: adata.X seems to be already log-transformed.\n",
      "Cell group ARI (vs PCA): 0.820\n",
      "Cell group NMI (vs PCA): 0.880\n",
      "CT vs Ground Truth ARI: 0.737\n",
      "CT vs Ground Truth NMI: 0.830\n",
      "### UMAP with  40  components ###\n",
      "WARNING: adata.X seems to be already log-transformed.\n",
      "Cell group ARI (vs PCA): 0.888\n",
      "Cell group NMI (vs PCA): 0.916\n",
      "CT vs Ground Truth ARI: 0.779\n",
      "CT vs Ground Truth NMI: 0.848\n",
      "### UMAP with  50  components ###\n",
      "WARNING: adata.X seems to be already log-transformed.\n",
      "Cell group ARI (vs PCA): 1.000\n",
      "Cell group NMI (vs PCA): 1.000\n",
      "CT vs Ground Truth ARI: 0.762\n",
      "CT vs Ground Truth NMI: 0.841\n",
      "Processing slice:  R2S1\n",
      "WARNING: adata.X seems to be already log-transformed.\n",
      "### UMAP with  10  components ###\n",
      "WARNING: adata.X seems to be already log-transformed.\n",
      "Cell group ARI (vs PCA): 0.635\n",
      "Cell group NMI (vs PCA): 0.763\n",
      "CT vs Ground Truth ARI: 0.586\n",
      "CT vs Ground Truth NMI: 0.731\n",
      "### UMAP with  20  components ###\n",
      "WARNING: adata.X seems to be already log-transformed.\n",
      "Cell group ARI (vs PCA): 0.773\n",
      "Cell group NMI (vs PCA): 0.860\n",
      "CT vs Ground Truth ARI: 0.717\n",
      "CT vs Ground Truth NMI: 0.821\n",
      "### UMAP with  30  components ###\n",
      "WARNING: adata.X seems to be already log-transformed.\n",
      "Cell group ARI (vs PCA): 0.828\n",
      "Cell group NMI (vs PCA): 0.894\n",
      "CT vs Ground Truth ARI: 0.728\n",
      "CT vs Ground Truth NMI: 0.836\n",
      "### UMAP with  40  components ###\n",
      "WARNING: adata.X seems to be already log-transformed.\n",
      "Cell group ARI (vs PCA): 0.914\n",
      "Cell group NMI (vs PCA): 0.931\n",
      "CT vs Ground Truth ARI: 0.780\n",
      "CT vs Ground Truth NMI: 0.853\n",
      "### UMAP with  50  components ###\n",
      "WARNING: adata.X seems to be already log-transformed.\n",
      "Cell group ARI (vs PCA): 1.000\n",
      "Cell group NMI (vs PCA): 1.000\n",
      "CT vs Ground Truth ARI: 0.760\n",
      "CT vs Ground Truth NMI: 0.844\n",
      "Processing slice:  R3S1\n",
      "WARNING: adata.X seems to be already log-transformed.\n",
      "### UMAP with  10  components ###\n",
      "WARNING: adata.X seems to be already log-transformed.\n",
      "Cell group ARI (vs PCA): 0.663\n",
      "Cell group NMI (vs PCA): 0.770\n",
      "CT vs Ground Truth ARI: 0.618\n",
      "CT vs Ground Truth NMI: 0.745\n",
      "### UMAP with  20  components ###\n",
      "WARNING: adata.X seems to be already log-transformed.\n",
      "Cell group ARI (vs PCA): 0.782\n",
      "Cell group NMI (vs PCA): 0.858\n",
      "CT vs Ground Truth ARI: 0.710\n",
      "CT vs Ground Truth NMI: 0.826\n",
      "### UMAP with  30  components ###\n",
      "WARNING: adata.X seems to be already log-transformed.\n",
      "Cell group ARI (vs PCA): 0.822\n",
      "Cell group NMI (vs PCA): 0.886\n",
      "CT vs Ground Truth ARI: 0.750\n",
      "CT vs Ground Truth NMI: 0.843\n",
      "### UMAP with  40  components ###\n",
      "WARNING: adata.X seems to be already log-transformed.\n",
      "Cell group ARI (vs PCA): 0.881\n",
      "Cell group NMI (vs PCA): 0.915\n",
      "CT vs Ground Truth ARI: 0.754\n",
      "CT vs Ground Truth NMI: 0.849\n",
      "### UMAP with  50  components ###\n",
      "WARNING: adata.X seems to be already log-transformed.\n",
      "Cell group ARI (vs PCA): 1.000\n",
      "Cell group NMI (vs PCA): 1.000\n",
      "CT vs Ground Truth ARI: 0.784\n",
      "CT vs Ground Truth NMI: 0.858\n"
     ]
    }
   ],
   "execution_count": 9
  },
  {
   "metadata": {},
   "cell_type": "code",
   "outputs": [],
   "execution_count": null,
   "source": "",
   "id": "a1f4f7a85a442794"
  }
 ],
 "metadata": {
  "kernelspec": {
   "display_name": "Python 3",
   "language": "python",
   "name": "python3"
  },
  "language_info": {
   "codemirror_mode": {
    "name": "ipython",
    "version": 2
   },
   "file_extension": ".py",
   "mimetype": "text/x-python",
   "name": "python",
   "nbconvert_exporter": "python",
   "pygments_lexer": "ipython2",
   "version": "2.7.6"
  }
 },
 "nbformat": 4,
 "nbformat_minor": 5
}
